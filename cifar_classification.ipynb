{
  "cells": [
    {
      "cell_type": "markdown",
      "metadata": {
        "id": "view-in-github",
        "colab_type": "text"
      },
      "source": [
        "<a href=\"https://colab.research.google.com/github/mishrap9/Introduction-to-Deep-Learning/blob/master/cifar_classification.ipynb\" target=\"_parent\"><img src=\"https://colab.research.google.com/assets/colab-badge.svg\" alt=\"Open In Colab\"/></a>"
      ]
    },
    {
      "cell_type": "markdown",
      "metadata": {
        "id": "sutt4shs9-Os"
      },
      "source": [
        "# This notebook classifies images of CIFAR-10 dataset using ResNet"
      ]
    },
    {
      "cell_type": "markdown",
      "metadata": {
        "id": "0BP_Ewai9-Ox"
      },
      "source": [
        "## Importing the libraries required for this task"
      ]
    },
    {
      "cell_type": "code",
      "execution_count": 1,
      "metadata": {
        "id": "19Xwt-OS9-Oy"
      },
      "outputs": [],
      "source": [
        "import numpy as np\n",
        "import os\n",
        "import pandas as pd\n",
        "import numpy as np\n",
        "import pandas as pd\n",
        "import torch\n",
        "import torch.nn.functional as F\n",
        "from torchvision import datasets,transforms\n",
        "from torch import nn\n",
        "import matplotlib.pyplot as plt\n",
        "import numpy as np\n",
        "import seaborn as sns\n",
        "from tqdm.notebook import tqdm\n",
        "#from tqdm import tqdm"
      ]
    },
    {
      "cell_type": "code",
      "execution_count": 2,
      "metadata": {
        "id": "NoNi1ebI9-O0"
      },
      "outputs": [],
      "source": [
        "import torch\n",
        "import torchvision\n",
        "import torchvision.transforms as transforms"
      ]
    },
    {
      "cell_type": "markdown",
      "metadata": {
        "id": "GdLtBNIw9-O0"
      },
      "source": [
        "## Setting the device to GPU if available, otherwise CPU"
      ]
    },
    {
      "cell_type": "code",
      "execution_count": 3,
      "metadata": {
        "id": "DvRiSH129-O1"
      },
      "outputs": [],
      "source": [
        "import torch\n",
        "\n",
        "device = torch.device(\"cuda:0\" if torch.cuda.is_available() else \"cpu\")"
      ]
    },
    {
      "cell_type": "code",
      "execution_count": 4,
      "metadata": {
        "colab": {
          "base_uri": "https://localhost:8080/"
        },
        "id": "TE43iMtX9-O1",
        "outputId": "4bedf884-ae82-4595-d1c7-b40c5558d29f"
      },
      "outputs": [
        {
          "output_type": "execute_result",
          "data": {
            "text/plain": [
              "device(type='cuda', index=0)"
            ]
          },
          "metadata": {},
          "execution_count": 4
        }
      ],
      "source": [
        "device"
      ]
    },
    {
      "cell_type": "markdown",
      "metadata": {
        "id": "zefUE8m29-O3"
      },
      "source": [
        "## The image is normalized below"
      ]
    },
    {
      "cell_type": "code",
      "execution_count": 5,
      "metadata": {
        "id": "hzzp2IoB9-O3"
      },
      "outputs": [],
      "source": [
        "transform = transforms.Compose([transforms.ToTensor(),\\\n",
        "                              transforms.Normalize((0.5, 0.5, 0.5), (0.5, 0.5, 0.5))])\n",
        "transform_train = transforms.Compose([transforms.Resize((32,32)),  #resises the image so it can be perfect for our model.\n",
        "                                      transforms.RandomHorizontalFlip(), # FLips the image w.r.t horizontal axis\n",
        "                                      transforms.RandomRotation(10),     #Rotates the image to a specified angel\n",
        "                                      transforms.RandomAffine(0, shear=10, scale=(0.8,1.2)), #Performs actions like zooms, change shear angles.\n",
        "                                      transforms.ColorJitter(brightness=0.2, contrast=0.2, saturation=0.2), # Set the color params\n",
        "                                      transforms.ToTensor(), # comvert the image to tensor so that it can work with torch\n",
        "                                      transforms.Normalize((0.5, 0.5, 0.5), (0.5, 0.5, 0.5)) #Normalize all the images\n",
        "                               ])"
      ]
    },
    {
      "cell_type": "markdown",
      "metadata": {
        "id": "k-bmsW3Q9-O4"
      },
      "source": [
        "## The data is downloaded and loaded below in batches"
      ]
    },
    {
      "cell_type": "code",
      "execution_count": 6,
      "metadata": {
        "colab": {
          "base_uri": "https://localhost:8080/",
          "height": 101,
          "referenced_widgets": [
            "7c1f3f51826047a781f608d7a7ae2bb7",
            "27f7f0bf38c94b9e8bdf2d3ff52bd20e",
            "5ce190260c154aa38a03b311c8418ff3",
            "25cefa28cd904cc5b79c6d98538b00ff",
            "6405fef3934f465eb8ebe15a961c3454",
            "4e59fefdbfb0401b8bf61794e3a79964",
            "1eca31a921094c6fb18c891cef5277e2",
            "df21714835b9485bbfe02374b656409b",
            "973fac186c084022bbfe035c5a8878e3",
            "632fd02942ee4f5aadf81e15ab23284c",
            "b069b38568d741e3ad08464d9ba91d1b"
          ]
        },
        "id": "-g7A945f9-O5",
        "outputId": "4f61f194-5078-4b1d-9548-1d6870ef06be"
      },
      "outputs": [
        {
          "output_type": "stream",
          "name": "stdout",
          "text": [
            "Downloading https://www.cs.toronto.edu/~kriz/cifar-10-python.tar.gz to ./data/cifar-10-python.tar.gz\n"
          ]
        },
        {
          "output_type": "display_data",
          "data": {
            "text/plain": [
              "  0%|          | 0/170498071 [00:00<?, ?it/s]"
            ],
            "application/vnd.jupyter.widget-view+json": {
              "version_major": 2,
              "version_minor": 0,
              "model_id": "7c1f3f51826047a781f608d7a7ae2bb7"
            }
          },
          "metadata": {}
        },
        {
          "output_type": "stream",
          "name": "stdout",
          "text": [
            "Extracting ./data/cifar-10-python.tar.gz to ./data\n",
            "Files already downloaded and verified\n"
          ]
        }
      ],
      "source": [
        "train_batch_size = 64\n",
        "val_batch_size = 50\n",
        "\n",
        "trainset = torchvision.datasets.CIFAR10(root = './data',\\\n",
        "                                       train = True, download = True, transform = transform_train)\n",
        "trainloader = torch.utils.data.DataLoader(trainset, batch_size = train_batch_size, shuffle = True, num_workers=2)\n",
        "testset = torchvision.datasets.CIFAR10(root = './data',\\\n",
        "                                      train = False, download = True, transform = transform)\n",
        "testloader = torch.utils.data.DataLoader(testset, batch_size = val_batch_size, shuffle = False, num_workers=2)\n",
        "\n",
        "classes = ('plane', 'car', 'bird', 'cat','deer', 'dog', 'frog', 'horse', 'ship', 'truck')"
      ]
    },
    {
      "cell_type": "markdown",
      "metadata": {
        "id": "JrfRyScJ9-O5"
      },
      "source": [
        "## Cell below is used for displaying the images"
      ]
    },
    {
      "cell_type": "code",
      "execution_count": 7,
      "metadata": {
        "colab": {
          "base_uri": "https://localhost:8080/",
          "height": 306
        },
        "id": "-EQkh6B29-O6",
        "outputId": "f6f77550-aa0a-47ea-d81e-76316203463b"
      },
      "outputs": [
        {
          "output_type": "display_data",
          "data": {
            "text/plain": [
              "<Figure size 432x288 with 1 Axes>"
            ],
            "image/png": "[encoded data removed]"
          },
          "metadata": {
            "needs_background": "light"
          }
        },
        {
          "output_type": "stream",
          "name": "stdout",
          "text": [
            "  cat horse  bird   cat truck  frog   car  bird  deer  bird horse   dog horse  ship plane   dog  ship  frog   car  deer horse  bird  frog  frog  ship  frog  frog   dog  ship   dog  frog   dog plane   car  deer  ship truck  frog  frog truck   cat   cat   car   car  frog horse plane  frog horse   cat plane  ship truck plane  deer   cat  frog  bird plane  ship   car   cat  frog   car\n"
          ]
        }
      ],
      "source": [
        "import matplotlib.pyplot as plt\n",
        "import numpy as np\n",
        "\n",
        "def imshow(img):\n",
        "    \"\"\"This function displays the image from the dataset\n",
        "    Arguments:\n",
        "        img: image to be displayed\n",
        "    \"\"\"\n",
        "    # unnormalize\n",
        "    img = img / 2 + 0.5\n",
        "    npimg = img.numpy()\n",
        "    plt.imshow(np.transpose(npimg, (1, 2, 0)))\n",
        "    plt.show()\n",
        "\n",
        "\n",
        "# get some random training images\n",
        "dataiter = iter(trainloader)\n",
        "images, labels = dataiter.next()\n",
        "\n",
        "# show images\n",
        "imshow(torchvision.utils.make_grid(images))\n",
        "# print labels\n",
        "print(' '.join('%5s' % classes[labels[j]] for j in range(train_batch_size)))"
      ]
    },
    {
      "cell_type": "code",
      "execution_count": 8,
      "metadata": {
        "id": "-xy_776X9-O7"
      },
      "outputs": [],
      "source": [
        "import torch.nn as nn\n",
        "import torch.nn.functional as F\n",
        "import torch.backends.cudnn as cudnn"
      ]
    },
    {
      "cell_type": "markdown",
      "metadata": {
        "id": "bbBasbkB9-O7"
      },
      "source": [
        "### Block which is used in ResNet with 18 and 34 layers."
      ]
    },
    {
      "cell_type": "code",
      "execution_count": 9,
      "metadata": {
        "id": "iw7TkzYB9-O7"
      },
      "outputs": [],
      "source": [
        "class BasicBlock(nn.Module):\n",
        "    \"\"\"This class builds the blocks which are used in ResNet with 18 layers and 34 layers\"\"\"\n",
        "    expansion = 1\n",
        "\n",
        "    def __init__(self, in_planes, planes, stride=1):\n",
        "        \"\"\"This is an init funtion fot class BasicBlock\n",
        "        Arguments:\n",
        "            in_planes: input channels\n",
        "            planes: output channels\n",
        "            stride: number of strides\n",
        "        \"\"\"\n",
        "        super(BasicBlock, self).__init__()\n",
        "        self.conv1 = nn.Conv2d(\n",
        "            in_planes, planes, kernel_size=3, stride=stride, padding=1, bias=False)\n",
        "        self.bn1 = nn.BatchNorm2d(planes)\n",
        "        self.conv2 = nn.Conv2d(planes, planes, kernel_size=3,\n",
        "                               stride=1, padding=1, bias=False)\n",
        "        self.bn2 = nn.BatchNorm2d(planes)\n",
        "\n",
        "        self.shortcut = nn.Sequential()\n",
        "        if stride != 1 or in_planes != self.expansion*planes:\n",
        "            self.shortcut = nn.Sequential(\n",
        "                nn.Conv2d(in_planes, self.expansion*planes,\n",
        "                          kernel_size=1, stride=stride, bias=False),\n",
        "                nn.BatchNorm2d(self.expansion*planes)\n",
        "            )\n",
        "\n",
        "    def forward(self, x):\n",
        "        \"\"\"This function works on all the layers defined architecture of BasicBlock of ResNet with 18 layers and 34 layers\n",
        "        Arguments:\n",
        "            x: input in the layer\n",
        "        Return:\n",
        "            out: output of the block\n",
        "        \"\"\"\n",
        "        out = F.relu(self.bn1(self.conv1(x)))\n",
        "        out = self.bn2(self.conv2(out))\n",
        "        out += self.shortcut(x)\n",
        "        out = F.relu(out)\n",
        "        return out\n"
      ]
    },
    {
      "cell_type": "markdown",
      "metadata": {
        "id": "lgQ-Wm719-O8"
      },
      "source": [
        "### Block which is used in ResNet with 50, 101, and 152 layers."
      ]
    },
    {
      "cell_type": "code",
      "execution_count": 10,
      "metadata": {
        "id": "4m_nvAs39-O9"
      },
      "outputs": [],
      "source": [
        "class Block(nn.Module):\n",
        "    \"\"\"This class builds the blocks which are used in ResNet with 50 layers, 101 layers, and 152 layers.\"\"\"\n",
        "    expansion = 4\n",
        "    def __init__(self, in_planes, planes, stride=1):\n",
        "        \"\"\"This is an init funtion fot class Block\n",
        "        Arguments:\n",
        "            in_planes: input channels\n",
        "            planes: output channels\n",
        "            stride: number of strides\n",
        "        \"\"\"\n",
        "        super(Block, self).__init__()\n",
        "        self.conv1 = nn.Conv2d(in_planes, planes, kernel_size=1, bias=False)\n",
        "        self.bn1 = nn.BatchNorm2d(planes)\n",
        "        self.conv2 = nn.Conv2d(planes, planes, kernel_size=3,\n",
        "                               stride=stride, padding=1, bias=False)\n",
        "        self.bn2 = nn.BatchNorm2d(planes)\n",
        "        self.conv3 = nn.Conv2d(planes, self.expansion *\n",
        "                               planes, kernel_size=1, bias=False)\n",
        "        self.bn3 = nn.BatchNorm2d(self.expansion*planes)\n",
        "\n",
        "        self.shortcut = nn.Sequential()\n",
        "        if stride != 1 or in_planes != self.expansion*planes:\n",
        "            self.shortcut = nn.Sequential(\n",
        "                nn.Conv2d(in_planes, self.expansion*planes,\n",
        "                          kernel_size=1, stride=stride, bias=False),\n",
        "                nn.BatchNorm2d(self.expansion*planes)\n",
        "            )\n",
        "\n",
        "    def forward(self, x):\n",
        "        \"\"\"This function works on all the layers defined architecture of Block of ResNet with 50 layers, 101 layers, and 152 layers.\n",
        "        Arguments:\n",
        "            x: input in the layer\n",
        "        Return:\n",
        "            out: output of the block\n",
        "        \"\"\"\n",
        "        out = F.relu(self.bn1(self.conv1(x)))\n",
        "        out = F.relu(self.bn2(self.conv2(out)))\n",
        "        out = self.bn3(self.conv3(out))\n",
        "        out += self.shortcut(x)\n",
        "        out = F.relu(out)\n",
        "        return out\n"
      ]
    },
    {
      "cell_type": "markdown",
      "metadata": {
        "id": "ZZp7FDG_9-O-"
      },
      "source": [
        "### ResNet architecture"
      ]
    },
    {
      "cell_type": "code",
      "execution_count": 26,
      "metadata": {
        "id": "T16u7Uzm9-O-"
      },
      "outputs": [],
      "source": [
        "class ResNet(nn.Module):\n",
        "    def __init__(self, block, num_blocks, num_classes=10):\n",
        "        \"\"\"This is an init funtion fot class ResNet which defines the whole architecture\n",
        "        Arguments:\n",
        "            block: type of block used out of BasicBlock and Block depending on the ResNet variant.\n",
        "            num_blocks: list of number of layers for each block\n",
        "            num_classes: number of classes, which is 10 for CIFAR-10 dataset\n",
        "        \"\"\"\n",
        "        super(ResNet, self).__init__()\n",
        "        self.in_planes = 64\n",
        "\n",
        "        self.conv1 = nn.Conv2d(3, 64, kernel_size=3,\n",
        "                               stride=1, padding=1, bias=False)\n",
        "        self.bn1 = nn.BatchNorm2d(64)\n",
        "        self.layer1 = self._make_layer(block, 64, num_blocks[0], stride=1)\n",
        "        self.layer2 = self._make_layer(block, 128, num_blocks[1], stride=2)\n",
        "        self.layer3 = self._make_layer(block, 256, num_blocks[2], stride=2)\n",
        "        self.layer4 = self._make_layer(block, 512, num_blocks[3], stride=2)\n",
        "        self.linear = nn.Linear(512*block.expansion, num_classes)\n",
        "        self.dropout = nn.Dropout(0.25)\n",
        "\n",
        "    def _make_layer(self, block, planes, num_blocks, stride):\n",
        "        \"\"\"This function computes the number of channels in the output of passing through the layer\n",
        "        Arguments:\n",
        "            block: type of block used out of BasicBlock and Block depending on the ResNet variant\n",
        "            planes: input channels\n",
        "            num_blocks: number of channels for each kernel\n",
        "            stride: stride of the kernel\n",
        "        Returns:\n",
        "            nn.Sequential(*layers):  output of the layer\n",
        "        \"\"\"\n",
        "        strides = [stride] + [1]*(num_blocks-1)\n",
        "        layers = []\n",
        "        for stride in strides:\n",
        "            layers.append(block(self.in_planes, planes, stride))\n",
        "            self.in_planes = planes * block.expansion\n",
        "        return nn.Sequential(*layers)\n",
        "\n",
        "    def forward(self, x):\n",
        "        \"\"\"This function works on all the layers defined architecture of ResNet.\n",
        "        Arguments:\n",
        "            x: input in the layer\n",
        "        Return:\n",
        "            out: output of the block\n",
        "        \"\"\"\n",
        "        out = F.relu(self.bn1(self.conv1(x)))\n",
        "        out = self.layer1(out)\n",
        "        out = self.layer2(out)\n",
        "        out = self.layer3(out)\n",
        "        out = self.layer4(out)\n",
        "        out = F.avg_pool2d(out, 4)\n",
        "        out = out.view(out.size(0), -1)\n",
        "        out = self.dropout(out)\n",
        "        out = self.linear(out)\n",
        "        return out\n",
        "\n",
        "def ResNet18():\n",
        "    \"\"\"Function for ResNet-18\"\"\"\n",
        "    return ResNet(BasicBlock, [2, 2, 2, 2])\n",
        "\n",
        "\n",
        "def ResNet34():\n",
        "    \"\"\"Function for ResNet-34\"\"\"\n",
        "    return ResNet(BasicBlock, [3, 4, 6, 3])\n",
        "\n",
        "\n",
        "def ResNet50():\n",
        "    \"\"\"Function for ResNet-50\"\"\"\n",
        "    return ResNet(Block, [3, 4, 6, 3])\n",
        "\n",
        "\n",
        "def ResNet101():\n",
        "    \"\"\"Function for ResNet-101\"\"\"\n",
        "    return ResNet(Block, [3, 4, 23, 3])\n",
        "\n",
        "\n",
        "def ResNet152():\n",
        "    \"\"\"Function for ResNet-152\"\"\"\n",
        "    return ResNet(Block, [3, 8, 36, 3])\n"
      ]
    },
    {
      "cell_type": "code",
      "execution_count": 32,
      "metadata": {
        "id": "Jmnqx9fs9-O_"
      },
      "outputs": [],
      "source": [
        "best_acc = 0\n",
        "net = ResNet34()\n",
        "net = net.to(device)\n",
        "if device == 'cuda':\n",
        "    net = torch.nn.DataParallel(net)\n",
        "    cudnn.benchmark = True"
      ]
    },
    {
      "cell_type": "markdown",
      "metadata": {
        "id": "A8gTlYqa9-O_"
      },
      "source": [
        "## Loss function used for the classification"
      ]
    },
    {
      "cell_type": "code",
      "execution_count": 33,
      "metadata": {
        "id": "514l26gP9-O_"
      },
      "outputs": [],
      "source": [
        "import torch.optim as optim\n",
        "\n",
        "# using Cross-Entropy Loss for classification problem\n",
        "criterion = nn.CrossEntropyLoss()\n",
        "grad_clip = 0.1\n",
        "# optimizer used for classification\n",
        "#optimizer = torch.optim.Adam(net.parameters(), lr=0.01, weight_decay = 5e-4)\n",
        "optimizer = torch.optim.RMSprop(net.parameters(), lr=0.0005, weight_decay = 1e-4)\n",
        "#scheduler = torch.optim.lr_scheduler.StepLR(optimizer, step_size=5, gamma=0.8)\n",
        "scheduler = torch.optim.lr_scheduler.CosineAnnealingLR(optimizer, T_max=200)"
      ]
    },
    {
      "cell_type": "markdown",
      "metadata": {
        "id": "nF5Hf3Ii9-PA"
      },
      "source": [
        "# Training the network"
      ]
    },
    {
      "cell_type": "code",
      "execution_count": 34,
      "metadata": {
        "id": "aNNGau0R9-PA"
      },
      "outputs": [],
      "source": [
        "# Training\n",
        "def train(epoch):\n",
        "    print('\\nEpoch: %d' % epoch)\n",
        "    net.train()\n",
        "    train_loss = 0\n",
        "    correct = 0\n",
        "    total = 0\n",
        "    for batch_idx, (inputs, targets) in enumerate(trainloader):\n",
        "        inputs, targets = inputs.to(device), targets.to(device)\n",
        "        optimizer.zero_grad()\n",
        "        outputs = net(inputs)\n",
        "        loss = criterion(outputs, targets)\n",
        "        loss.backward()\n",
        "\n",
        "        # Gradient clipping\n",
        "        if grad_clip: \n",
        "            nn.utils.clip_grad_value_(net.parameters(), grad_clip)\n",
        "\n",
        "        optimizer.step()\n",
        "\n",
        "        train_loss += loss.item()\n",
        "        _, predicted = outputs.max(1)\n",
        "        total += targets.size(0)\n",
        "        correct += predicted.eq(targets).sum().item()\n",
        "        #if batch_idx%500 ==0:\n",
        "    print('Training loss: %.3f  |  Training Accuracy: %.3f' %\n",
        "              (train_loss/(batch_idx+1), 100.*correct/total))\n"
      ]
    },
    {
      "cell_type": "code",
      "execution_count": 35,
      "metadata": {
        "id": "rvQQyeUj9-PA"
      },
      "outputs": [],
      "source": [
        "def test(epoch):\n",
        "    global best_acc\n",
        "    net.eval()\n",
        "    test_loss = 0\n",
        "    correct = 0\n",
        "    total = 0\n",
        "    with torch.no_grad():\n",
        "        for batch_idx, (inputs, targets) in enumerate(testloader):\n",
        "            inputs, targets = inputs.to(device), targets.to(device)\n",
        "            outputs = net(inputs)\n",
        "            loss = criterion(outputs, targets)\n",
        "\n",
        "            test_loss += loss.item()\n",
        "            _, predicted = outputs.max(1)\n",
        "            total += targets.size(0)\n",
        "            correct += predicted.eq(targets).sum().item()\n",
        "            #if batch_idx%500 ==0:\n",
        "        print('Test loss: %.3f  |  Test Accuracy: %.3f' %\n",
        "              (test_loss/(batch_idx+1), 100.*correct/total))\n",
        "\n",
        "    # Save checkpoint.\n",
        "    acc = 100.*correct/total\n",
        "    if acc > best_acc:\n",
        "        print('Saving..')\n",
        "        state = {\n",
        "            'net': net.state_dict(),\n",
        "            'acc': acc,\n",
        "            'epoch': epoch,\n",
        "        }\n",
        "        if not os.path.isdir('checkpoint'):\n",
        "            os.mkdir('checkpoint')\n",
        "        torch.save(state, './checkpoint/ckpt.pth')\n",
        "        best_acc = acc\n",
        "\n"
      ]
    },
    {
      "cell_type": "code",
      "execution_count": null,
      "metadata": {
        "colab": {
          "base_uri": "https://localhost:8080/"
        },
        "id": "E2fO_-P09-PA",
        "outputId": "dd97c6d5-49d4-48ea-94d5-ae40c7ee985a"
      },
      "outputs": [
        {
          "output_type": "stream",
          "name": "stdout",
          "text": [
            "\n",
            "Epoch: 0\n",
            "Training loss: 1.680  |  Training Accuracy: 38.310\n",
            "Test loss: 1.661  |  Test Accuracy: 44.040\n",
            "Saving..\n",
            "\n",
            "Epoch: 1\n",
            "Training loss: 1.214  |  Training Accuracy: 56.168\n",
            "Test loss: 1.327  |  Test Accuracy: 59.570\n",
            "Saving..\n",
            "\n",
            "Epoch: 2\n",
            "Training loss: 0.994  |  Training Accuracy: 64.878\n",
            "Test loss: 1.124  |  Test Accuracy: 61.700\n",
            "Saving..\n",
            "\n",
            "Epoch: 3\n",
            "Training loss: 0.847  |  Training Accuracy: 70.314\n",
            "Test loss: 0.833  |  Test Accuracy: 71.130\n",
            "Saving..\n",
            "\n",
            "Epoch: 4\n",
            "Training loss: 0.757  |  Training Accuracy: 73.806\n",
            "Test loss: 0.712  |  Test Accuracy: 76.240\n",
            "Saving..\n",
            "\n",
            "Epoch: 5\n",
            "Training loss: 0.683  |  Training Accuracy: 76.448\n",
            "Test loss: 0.829  |  Test Accuracy: 74.560\n",
            "\n",
            "Epoch: 6\n",
            "Training loss: 0.633  |  Training Accuracy: 78.164\n",
            "Test loss: 0.712  |  Test Accuracy: 75.160\n",
            "\n",
            "Epoch: 7\n",
            "Training loss: 0.586  |  Training Accuracy: 79.876\n",
            "Test loss: 0.721  |  Test Accuracy: 76.620\n",
            "Saving..\n",
            "\n",
            "Epoch: 8\n",
            "Training loss: 0.550  |  Training Accuracy: 80.818\n",
            "Test loss: 0.853  |  Test Accuracy: 74.340\n",
            "\n",
            "Epoch: 9\n",
            "Training loss: 0.518  |  Training Accuracy: 82.118\n",
            "Test loss: 0.574  |  Test Accuracy: 80.720\n",
            "Saving..\n",
            "\n",
            "Epoch: 10\n",
            "Training loss: 0.489  |  Training Accuracy: 83.196\n",
            "Test loss: 0.507  |  Test Accuracy: 83.000\n",
            "Saving..\n",
            "\n",
            "Epoch: 11\n",
            "Training loss: 0.468  |  Training Accuracy: 83.772\n",
            "Test loss: 0.583  |  Test Accuracy: 81.020\n",
            "\n",
            "Epoch: 12\n",
            "Training loss: 0.446  |  Training Accuracy: 84.558\n",
            "Test loss: 0.475  |  Test Accuracy: 83.910\n",
            "Saving..\n",
            "\n",
            "Epoch: 13\n",
            "Training loss: 0.430  |  Training Accuracy: 85.050\n",
            "Test loss: 0.491  |  Test Accuracy: 84.160\n",
            "Saving..\n",
            "\n",
            "Epoch: 14\n",
            "Training loss: 0.408  |  Training Accuracy: 85.874\n",
            "Test loss: 0.436  |  Test Accuracy: 85.620\n",
            "Saving..\n",
            "\n",
            "Epoch: 15\n",
            "Training loss: 0.398  |  Training Accuracy: 86.178\n",
            "Test loss: 0.660  |  Test Accuracy: 78.920\n",
            "\n",
            "Epoch: 16\n",
            "Training loss: 0.379  |  Training Accuracy: 86.946\n",
            "Test loss: 0.396  |  Test Accuracy: 86.460\n",
            "Saving..\n",
            "\n",
            "Epoch: 17\n",
            "Training loss: 0.369  |  Training Accuracy: 87.260\n",
            "Test loss: 0.390  |  Test Accuracy: 87.190\n",
            "Saving..\n",
            "\n",
            "Epoch: 18\n",
            "Training loss: 0.352  |  Training Accuracy: 87.820\n",
            "Test loss: 0.639  |  Test Accuracy: 80.430\n",
            "\n",
            "Epoch: 19\n",
            "Training loss: 0.343  |  Training Accuracy: 88.104\n",
            "Test loss: 0.377  |  Test Accuracy: 87.150\n",
            "\n",
            "Epoch: 20\n",
            "Training loss: 0.336  |  Training Accuracy: 88.326\n",
            "Test loss: 0.453  |  Test Accuracy: 85.360\n",
            "\n",
            "Epoch: 21\n",
            "Training loss: 0.322  |  Training Accuracy: 88.822\n",
            "Test loss: 0.598  |  Test Accuracy: 82.260\n",
            "\n",
            "Epoch: 22\n",
            "Training loss: 0.315  |  Training Accuracy: 89.184\n",
            "Test loss: 0.406  |  Test Accuracy: 86.630\n",
            "\n",
            "Epoch: 23\n",
            "Training loss: 0.308  |  Training Accuracy: 89.324\n",
            "Test loss: 0.627  |  Test Accuracy: 81.220\n",
            "\n",
            "Epoch: 24\n",
            "Training loss: 0.293  |  Training Accuracy: 89.954\n",
            "Test loss: 0.679  |  Test Accuracy: 80.470\n",
            "\n",
            "Epoch: 25\n",
            "Training loss: 0.289  |  Training Accuracy: 90.002\n",
            "Test loss: 0.418  |  Test Accuracy: 86.560\n",
            "\n",
            "Epoch: 26\n",
            "Training loss: 0.278  |  Training Accuracy: 90.310\n",
            "Test loss: 0.413  |  Test Accuracy: 87.130\n",
            "\n",
            "Epoch: 27\n",
            "Training loss: 0.276  |  Training Accuracy: 90.436\n",
            "Test loss: 0.368  |  Test Accuracy: 87.920\n",
            "Saving..\n",
            "\n",
            "Epoch: 28\n",
            "Training loss: 0.265  |  Training Accuracy: 90.812\n",
            "Test loss: 0.369  |  Test Accuracy: 87.960\n",
            "Saving..\n",
            "\n",
            "Epoch: 29\n",
            "Training loss: 0.261  |  Training Accuracy: 90.912\n",
            "Test loss: 0.392  |  Test Accuracy: 87.250\n",
            "\n",
            "Epoch: 30\n",
            "Training loss: 0.257  |  Training Accuracy: 90.954\n",
            "Test loss: 0.322  |  Test Accuracy: 89.550\n",
            "Saving..\n",
            "\n",
            "Epoch: 31\n",
            "Training loss: 0.247  |  Training Accuracy: 91.290\n",
            "Test loss: 0.336  |  Test Accuracy: 88.980\n",
            "\n",
            "Epoch: 32\n",
            "Training loss: 0.246  |  Training Accuracy: 91.484\n",
            "Test loss: 0.414  |  Test Accuracy: 86.780\n",
            "\n",
            "Epoch: 33\n",
            "Training loss: 0.243  |  Training Accuracy: 91.516\n",
            "Test loss: 0.349  |  Test Accuracy: 88.680\n",
            "\n",
            "Epoch: 34\n",
            "Training loss: 0.235  |  Training Accuracy: 92.022\n",
            "Test loss: 0.490  |  Test Accuracy: 85.240\n",
            "\n",
            "Epoch: 35\n",
            "Training loss: 0.229  |  Training Accuracy: 91.944\n",
            "Test loss: 0.308  |  Test Accuracy: 90.760\n",
            "Saving..\n",
            "\n",
            "Epoch: 36\n",
            "Training loss: 0.225  |  Training Accuracy: 92.136\n",
            "Test loss: 0.393  |  Test Accuracy: 87.620\n",
            "\n",
            "Epoch: 37\n",
            "Training loss: 0.220  |  Training Accuracy: 92.268\n",
            "Test loss: 0.317  |  Test Accuracy: 89.660\n",
            "\n",
            "Epoch: 38\n",
            "Training loss: 0.218  |  Training Accuracy: 92.352\n",
            "Test loss: 0.396  |  Test Accuracy: 87.850\n",
            "\n",
            "Epoch: 39\n",
            "Training loss: 0.213  |  Training Accuracy: 92.642\n",
            "Test loss: 0.348  |  Test Accuracy: 89.130\n",
            "\n",
            "Epoch: 40\n",
            "Training loss: 0.210  |  Training Accuracy: 92.640\n",
            "Test loss: 0.341  |  Test Accuracy: 89.350\n",
            "\n",
            "Epoch: 41\n",
            "Training loss: 0.207  |  Training Accuracy: 92.938\n",
            "Test loss: 0.310  |  Test Accuracy: 90.400\n",
            "\n",
            "Epoch: 42\n",
            "Training loss: 0.206  |  Training Accuracy: 92.830\n",
            "Test loss: 0.384  |  Test Accuracy: 88.400\n",
            "\n",
            "Epoch: 43\n",
            "Training loss: 0.201  |  Training Accuracy: 92.884\n",
            "Test loss: 0.326  |  Test Accuracy: 89.770\n",
            "\n",
            "Epoch: 44\n",
            "Training loss: 0.196  |  Training Accuracy: 93.208\n",
            "Test loss: 0.351  |  Test Accuracy: 89.090\n",
            "\n",
            "Epoch: 45\n",
            "Training loss: 0.193  |  Training Accuracy: 93.286\n",
            "Test loss: 0.304  |  Test Accuracy: 90.490\n",
            "\n",
            "Epoch: 46\n",
            "Training loss: 0.190  |  Training Accuracy: 93.380\n",
            "Test loss: 0.316  |  Test Accuracy: 90.310\n",
            "\n",
            "Epoch: 47\n",
            "Training loss: 0.185  |  Training Accuracy: 93.580\n",
            "Test loss: 0.316  |  Test Accuracy: 90.120\n",
            "\n",
            "Epoch: 48\n",
            "Training loss: 0.183  |  Training Accuracy: 93.568\n",
            "Test loss: 0.341  |  Test Accuracy: 89.550\n",
            "\n",
            "Epoch: 49\n",
            "Training loss: 0.180  |  Training Accuracy: 93.754\n",
            "Test loss: 0.373  |  Test Accuracy: 88.390\n",
            "\n",
            "Epoch: 50\n",
            "Training loss: 0.178  |  Training Accuracy: 93.782\n",
            "Test loss: 0.333  |  Test Accuracy: 89.740\n",
            "\n",
            "Epoch: 51\n",
            "Training loss: 0.173  |  Training Accuracy: 93.968\n",
            "Test loss: 0.335  |  Test Accuracy: 89.750\n",
            "\n",
            "Epoch: 52\n",
            "Training loss: 0.172  |  Training Accuracy: 94.012\n",
            "Test loss: 0.378  |  Test Accuracy: 88.960\n",
            "\n",
            "Epoch: 53\n",
            "Training loss: 0.171  |  Training Accuracy: 94.176\n",
            "Test loss: 0.552  |  Test Accuracy: 84.410\n",
            "\n",
            "Epoch: 54\n",
            "Training loss: 0.169  |  Training Accuracy: 94.004\n",
            "Test loss: 0.277  |  Test Accuracy: 90.950\n",
            "Saving..\n",
            "\n",
            "Epoch: 55\n",
            "Training loss: 0.160  |  Training Accuracy: 94.430\n",
            "Test loss: 0.348  |  Test Accuracy: 89.560\n",
            "\n",
            "Epoch: 56\n",
            "Training loss: 0.159  |  Training Accuracy: 94.484\n",
            "Test loss: 0.340  |  Test Accuracy: 90.130\n",
            "\n",
            "Epoch: 57\n",
            "Training loss: 0.160  |  Training Accuracy: 94.504\n",
            "Test loss: 0.405  |  Test Accuracy: 88.250\n",
            "\n",
            "Epoch: 58\n",
            "Training loss: 0.158  |  Training Accuracy: 94.456\n",
            "Test loss: 0.342  |  Test Accuracy: 90.130\n",
            "\n",
            "Epoch: 59\n",
            "Training loss: 0.155  |  Training Accuracy: 94.684\n",
            "Test loss: 0.426  |  Test Accuracy: 88.070\n",
            "\n",
            "Epoch: 60\n",
            "Training loss: 0.150  |  Training Accuracy: 94.866\n",
            "Test loss: 0.394  |  Test Accuracy: 88.850\n",
            "\n",
            "Epoch: 61\n",
            "Training loss: 0.150  |  Training Accuracy: 94.842\n",
            "Test loss: 0.372  |  Test Accuracy: 89.370\n",
            "\n",
            "Epoch: 62\n",
            "Training loss: 0.143  |  Training Accuracy: 94.990\n",
            "Test loss: 0.311  |  Test Accuracy: 90.790\n",
            "\n",
            "Epoch: 63\n",
            "Training loss: 0.143  |  Training Accuracy: 95.004\n",
            "Test loss: 0.292  |  Test Accuracy: 91.470\n",
            "Saving..\n",
            "\n",
            "Epoch: 64\n",
            "Training loss: 0.146  |  Training Accuracy: 94.998\n",
            "Test loss: 0.322  |  Test Accuracy: 90.170\n",
            "\n",
            "Epoch: 65\n",
            "Training loss: 0.140  |  Training Accuracy: 95.118\n",
            "Test loss: 0.299  |  Test Accuracy: 91.070\n",
            "\n",
            "Epoch: 66\n",
            "Training loss: 0.139  |  Training Accuracy: 95.180\n",
            "Test loss: 0.318  |  Test Accuracy: 90.670\n",
            "\n",
            "Epoch: 67\n",
            "Training loss: 0.138  |  Training Accuracy: 95.178\n",
            "Test loss: 0.305  |  Test Accuracy: 90.940\n",
            "\n",
            "Epoch: 68\n",
            "Training loss: 0.132  |  Training Accuracy: 95.398\n",
            "Test loss: 0.304  |  Test Accuracy: 91.180\n",
            "\n",
            "Epoch: 69\n",
            "Training loss: 0.132  |  Training Accuracy: 95.424\n",
            "Test loss: 0.313  |  Test Accuracy: 91.090\n",
            "\n",
            "Epoch: 70\n",
            "Training loss: 0.132  |  Training Accuracy: 95.492\n",
            "Test loss: 0.317  |  Test Accuracy: 90.600\n",
            "\n",
            "Epoch: 71\n",
            "Training loss: 0.128  |  Training Accuracy: 95.438\n",
            "Test loss: 0.319  |  Test Accuracy: 90.990\n",
            "\n",
            "Epoch: 72\n",
            "Training loss: 0.127  |  Training Accuracy: 95.510\n",
            "Test loss: 0.331  |  Test Accuracy: 90.670\n",
            "\n",
            "Epoch: 73\n",
            "Training loss: 0.125  |  Training Accuracy: 95.670\n",
            "Test loss: 0.336  |  Test Accuracy: 90.460\n",
            "\n",
            "Epoch: 74\n",
            "Training loss: 0.126  |  Training Accuracy: 95.628\n",
            "Test loss: 0.323  |  Test Accuracy: 90.780\n",
            "\n",
            "Epoch: 75\n",
            "Training loss: 0.120  |  Training Accuracy: 95.868\n",
            "Test loss: 0.337  |  Test Accuracy: 90.700\n",
            "\n",
            "Epoch: 76\n",
            "Training loss: 0.123  |  Training Accuracy: 95.732\n",
            "Test loss: 0.341  |  Test Accuracy: 90.390\n",
            "\n",
            "Epoch: 77\n",
            "Training loss: 0.120  |  Training Accuracy: 95.778\n",
            "Test loss: 0.301  |  Test Accuracy: 91.550\n",
            "Saving..\n",
            "\n",
            "Epoch: 78\n",
            "Training loss: 0.120  |  Training Accuracy: 95.844\n",
            "Test loss: 0.318  |  Test Accuracy: 90.730\n",
            "\n",
            "Epoch: 79\n",
            "Training loss: 0.114  |  Training Accuracy: 96.094\n",
            "Test loss: 0.313  |  Test Accuracy: 91.070\n",
            "\n",
            "Epoch: 80\n",
            "Training loss: 0.112  |  Training Accuracy: 96.128\n",
            "Test loss: 0.378  |  Test Accuracy: 89.610\n",
            "\n",
            "Epoch: 81\n",
            "Training loss: 0.113  |  Training Accuracy: 96.164\n",
            "Test loss: 0.321  |  Test Accuracy: 90.960\n",
            "\n",
            "Epoch: 82\n",
            "Training loss: 0.110  |  Training Accuracy: 96.160\n",
            "Test loss: 0.334  |  Test Accuracy: 90.930\n",
            "\n",
            "Epoch: 83\n",
            "Training loss: 0.110  |  Training Accuracy: 96.166\n",
            "Test loss: 0.314  |  Test Accuracy: 91.460\n",
            "\n",
            "Epoch: 84\n",
            "Training loss: 0.108  |  Training Accuracy: 96.282\n",
            "Test loss: 0.354  |  Test Accuracy: 90.260\n",
            "\n",
            "Epoch: 85\n",
            "Training loss: 0.103  |  Training Accuracy: 96.538\n",
            "Test loss: 0.312  |  Test Accuracy: 91.430\n",
            "\n",
            "Epoch: 86\n",
            "Training loss: 0.104  |  Training Accuracy: 96.496\n",
            "Test loss: 0.365  |  Test Accuracy: 90.060\n",
            "\n",
            "Epoch: 87\n",
            "Training loss: 0.101  |  Training Accuracy: 96.522\n",
            "Test loss: 0.331  |  Test Accuracy: 91.030\n",
            "\n",
            "Epoch: 88\n",
            "Training loss: 0.098  |  Training Accuracy: 96.610\n",
            "Test loss: 0.334  |  Test Accuracy: 90.880\n",
            "\n",
            "Epoch: 89\n"
          ]
        }
      ],
      "source": [
        "for epoch in range(0, 100):\n",
        "    train(epoch)\n",
        "    test(epoch)\n",
        "    scheduler.step()"
      ]
    },
    {
      "cell_type": "code",
      "source": [
        "print(\"Best accuracy obtained: \", best_acc)"
      ],
      "metadata": {
        "id": "sfRrMWzhIoFe"
      },
      "execution_count": null,
      "outputs": []
    },
    {
      "cell_type": "code",
      "source": [],
      "metadata": {
        "id": "GTamcavcFjE-"
      },
      "execution_count": null,
      "outputs": []
    }
  ],
  "metadata": {
    "kernelspec": {
      "display_name": "Python 3",
      "language": "python",
      "name": "python3"
    },
    "language_info": {
      "codemirror_mode": {
        "name": "ipython",
        "version": 3
      },
      "file_extension": ".py",
      "mimetype": "text/x-python",
      "name": "python",
      "nbconvert_exporter": "python",
      "pygments_lexer": "ipython3",
      "version": "3.6.9"
    },
    "colab": {
      "provenance": [],
      "collapsed_sections": [],
      "include_colab_link": true
    },
    "accelerator": "GPU",
    "gpuClass": "standard",
    "widgets": {
      "application/vnd.jupyter.widget-state+json": {
        "7c1f3f51826047a781f608d7a7ae2bb7": {
          "model_module": "@jupyter-widgets/controls",
          "model_name": "HBoxModel",
          "model_module_version": "1.5.0",
          "state": {
            "_dom_classes": [],
            "_model_module": "@jupyter-widgets/controls",
            "_model_module_version": "1.5.0",
            "_model_name": "HBoxModel",
            "_view_count": null,
            "_view_module": "@jupyter-widgets/controls",
            "_view_module_version": "1.5.0",
            "_view_name": "HBoxView",
            "box_style": "",
            "children": [
              "IPY_MODEL_27f7f0bf38c94b9e8bdf2d3ff52bd20e",
              "IPY_MODEL_5ce190260c154aa38a03b311c8418ff3",
              "IPY_MODEL_25cefa28cd904cc5b79c6d98538b00ff"
            ],
            "layout": "IPY_MODEL_6405fef3934f465eb8ebe15a961c3454"
          }
        },
        "27f7f0bf38c94b9e8bdf2d3ff52bd20e": {
          "model_module": "@jupyter-widgets/controls",
          "model_name": "HTMLModel",
          "model_module_version": "1.5.0",
          "state": {
            "_dom_classes": [],
            "_model_module": "@jupyter-widgets/controls",
            "_model_module_version": "1.5.0",
            "_model_name": "HTMLModel",
            "_view_count": null,
            "_view_module": "@jupyter-widgets/controls",
            "_view_module_version": "1.5.0",
            "_view_name": "HTMLView",
            "description": "",
            "description_tooltip": null,
            "layout": "IPY_MODEL_4e59fefdbfb0401b8bf61794e3a79964",
            "placeholder": "​",
            "style": "IPY_MODEL_1eca31a921094c6fb18c891cef5277e2",
            "value": "100%"
          }
        },
        "5ce190260c154aa38a03b311c8418ff3": {
          "model_module": "@jupyter-widgets/controls",
          "model_name": "FloatProgressModel",
          "model_module_version": "1.5.0",
          "state": {
            "_dom_classes": [],
            "_model_module": "@jupyter-widgets/controls",
            "_model_module_version": "1.5.0",
            "_model_name": "FloatProgressModel",
            "_view_count": null,
            "_view_module": "@jupyter-widgets/controls",
            "_view_module_version": "1.5.0",
            "_view_name": "ProgressView",
            "bar_style": "success",
            "description": "",
            "description_tooltip": null,
            "layout": "IPY_MODEL_df21714835b9485bbfe02374b656409b",
            "max": 170498071,
            "min": 0,
            "orientation": "horizontal",
            "style": "IPY_MODEL_973fac186c084022bbfe035c5a8878e3",
            "value": 170498071
          }
        },
        "25cefa28cd904cc5b79c6d98538b00ff": {
          "model_module": "@jupyter-widgets/controls",
          "model_name": "HTMLModel",
          "model_module_version": "1.5.0",
          "state": {
            "_dom_classes": [],
            "_model_module": "@jupyter-widgets/controls",
            "_model_module_version": "1.5.0",
            "_model_name": "HTMLModel",
            "_view_count": null,
            "_view_module": "@jupyter-widgets/controls",
            "_view_module_version": "1.5.0",
            "_view_name": "HTMLView",
            "description": "",
            "description_tooltip": null,
            "layout": "IPY_MODEL_632fd02942ee4f5aadf81e15ab23284c",
            "placeholder": "​",
            "style": "IPY_MODEL_b069b38568d741e3ad08464d9ba91d1b",
            "value": " 170498071/170498071 [00:03&lt;00:00, 54262815.81it/s]"
          }
        },
        "6405fef3934f465eb8ebe15a961c3454": {
          "model_module": "@jupyter-widgets/base",
          "model_name": "LayoutModel",
          "model_module_version": "1.2.0",
          "state": {
            "_model_module": "@jupyter-widgets/base",
            "_model_module_version": "1.2.0",
            "_model_name": "LayoutModel",
            "_view_count": null,
            "_view_module": "@jupyter-widgets/base",
            "_view_module_version": "1.2.0",
            "_view_name": "LayoutView",
            "align_content": null,
            "align_items": null,
            "align_self": null,
            "border": null,
            "bottom": null,
            "display": null,
            "flex": null,
            "flex_flow": null,
            "grid_area": null,
            "grid_auto_columns": null,
            "grid_auto_flow": null,
            "grid_auto_rows": null,
            "grid_column": null,
            "grid_gap": null,
            "grid_row": null,
            "grid_template_areas": null,
            "grid_template_columns": null,
            "grid_template_rows": null,
            "height": null,
            "justify_content": null,
            "justify_items": null,
            "left": null,
            "margin": null,
            "max_height": null,
            "max_width": null,
            "min_height": null,
            "min_width": null,
            "object_fit": null,
            "object_position": null,
            "order": null,
            "overflow": null,
            "overflow_x": null,
            "overflow_y": null,
            "padding": null,
            "right": null,
            "top": null,
            "visibility": null,
            "width": null
          }
        },
        "4e59fefdbfb0401b8bf61794e3a79964": {
          "model_module": "@jupyter-widgets/base",
          "model_name": "LayoutModel",
          "model_module_version": "1.2.0",
          "state": {
            "_model_module": "@jupyter-widgets/base",
            "_model_module_version": "1.2.0",
            "_model_name": "LayoutModel",
            "_view_count": null,
            "_view_module": "@jupyter-widgets/base",
            "_view_module_version": "1.2.0",
            "_view_name": "LayoutView",
            "align_content": null,
            "align_items": null,
            "align_self": null,
            "border": null,
            "bottom": null,
            "display": null,
            "flex": null,
            "flex_flow": null,
            "grid_area": null,
            "grid_auto_columns": null,
            "grid_auto_flow": null,
            "grid_auto_rows": null,
            "grid_column": null,
            "grid_gap": null,
            "grid_row": null,
            "grid_template_areas": null,
            "grid_template_columns": null,
            "grid_template_rows": null,
            "height": null,
            "justify_content": null,
            "justify_items": null,
            "left": null,
            "margin": null,
            "max_height": null,
            "max_width": null,
            "min_height": null,
            "min_width": null,
            "object_fit": null,
            "object_position": null,
            "order": null,
            "overflow": null,
            "overflow_x": null,
            "overflow_y": null,
            "padding": null,
            "right": null,
            "top": null,
            "visibility": null,
            "width": null
          }
        },
        "1eca31a921094c6fb18c891cef5277e2": {
          "model_module": "@jupyter-widgets/controls",
          "model_name": "DescriptionStyleModel",
          "model_module_version": "1.5.0",
          "state": {
            "_model_module": "@jupyter-widgets/controls",
            "_model_module_version": "1.5.0",
            "_model_name": "DescriptionStyleModel",
            "_view_count": null,
            "_view_module": "@jupyter-widgets/base",
            "_view_module_version": "1.2.0",
            "_view_name": "StyleView",
            "description_width": ""
          }
        },
        "df21714835b9485bbfe02374b656409b": {
          "model_module": "@jupyter-widgets/base",
          "model_name": "LayoutModel",
          "model_module_version": "1.2.0",
          "state": {
            "_model_module": "@jupyter-widgets/base",
            "_model_module_version": "1.2.0",
            "_model_name": "LayoutModel",
            "_view_count": null,
            "_view_module": "@jupyter-widgets/base",
            "_view_module_version": "1.2.0",
            "_view_name": "LayoutView",
            "align_content": null,
            "align_items": null,
            "align_self": null,
            "border": null,
            "bottom": null,
            "display": null,
            "flex": null,
            "flex_flow": null,
            "grid_area": null,
            "grid_auto_columns": null,
            "grid_auto_flow": null,
            "grid_auto_rows": null,
            "grid_column": null,
            "grid_gap": null,
            "grid_row": null,
            "grid_template_areas": null,
            "grid_template_columns": null,
            "grid_template_rows": null,
            "height": null,
            "justify_content": null,
            "justify_items": null,
            "left": null,
            "margin": null,
            "max_height": null,
            "max_width": null,
            "min_height": null,
            "min_width": null,
            "object_fit": null,
            "object_position": null,
            "order": null,
            "overflow": null,
            "overflow_x": null,
            "overflow_y": null,
            "padding": null,
            "right": null,
            "top": null,
            "visibility": null,
            "width": null
          }
        },
        "973fac186c084022bbfe035c5a8878e3": {
          "model_module": "@jupyter-widgets/controls",
          "model_name": "ProgressStyleModel",
          "model_module_version": "1.5.0",
          "state": {
            "_model_module": "@jupyter-widgets/controls",
            "_model_module_version": "1.5.0",
            "_model_name": "ProgressStyleModel",
            "_view_count": null,
            "_view_module": "@jupyter-widgets/base",
            "_view_module_version": "1.2.0",
            "_view_name": "StyleView",
            "bar_color": null,
            "description_width": ""
          }
        },
        "632fd02942ee4f5aadf81e15ab23284c": {
          "model_module": "@jupyter-widgets/base",
          "model_name": "LayoutModel",
          "model_module_version": "1.2.0",
          "state": {
            "_model_module": "@jupyter-widgets/base",
            "_model_module_version": "1.2.0",
            "_model_name": "LayoutModel",
            "_view_count": null,
            "_view_module": "@jupyter-widgets/base",
            "_view_module_version": "1.2.0",
            "_view_name": "LayoutView",
            "align_content": null,
            "align_items": null,
            "align_self": null,
            "border": null,
            "bottom": null,
            "display": null,
            "flex": null,
            "flex_flow": null,
            "grid_area": null,
            "grid_auto_columns": null,
            "grid_auto_flow": null,
            "grid_auto_rows": null,
            "grid_column": null,
            "grid_gap": null,
            "grid_row": null,
            "grid_template_areas": null,
            "grid_template_columns": null,
            "grid_template_rows": null,
            "height": null,
            "justify_content": null,
            "justify_items": null,
            "left": null,
            "margin": null,
            "max_height": null,
            "max_width": null,
            "min_height": null,
            "min_width": null,
            "object_fit": null,
            "object_position": null,
            "order": null,
            "overflow": null,
            "overflow_x": null,
            "overflow_y": null,
            "padding": null,
            "right": null,
            "top": null,
            "visibility": null,
            "width": null
          }
        },
        "b069b38568d741e3ad08464d9ba91d1b": {
          "model_module": "@jupyter-widgets/controls",
          "model_name": "DescriptionStyleModel",
          "model_module_version": "1.5.0",
          "state": {
            "_model_module": "@jupyter-widgets/controls",
            "_model_module_version": "1.5.0",
            "_model_name": "DescriptionStyleModel",
            "_view_count": null,
            "_view_module": "@jupyter-widgets/base",
            "_view_module_version": "1.2.0",
            "_view_name": "StyleView",
            "description_width": ""
          }
        }
      }
    }
  },
  "nbformat": 4,
  "nbformat_minor": 0
}